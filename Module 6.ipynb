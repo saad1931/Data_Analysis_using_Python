{
 "cells": [
  {
   "cell_type": "markdown",
   "id": "da107aa8",
   "metadata": {},
   "source": [
    "## Introduction To Probability"
   ]
  },
  {
   "cell_type": "markdown",
   "id": "2787211a",
   "metadata": {},
   "source": [
    "##  Lecture 1"
   ]
  },
  {
   "cell_type": "markdown",
   "id": "3ceb8f04",
   "metadata": {},
   "source": [
    "### Sets and Events"
   ]
  },
  {
   "cell_type": "code",
   "execution_count": 1,
   "id": "1dfc88b0",
   "metadata": {},
   "outputs": [],
   "source": [
    "import pandas as pd\n",
    "import numpy as np"
   ]
  },
  {
   "cell_type": "code",
   "execution_count": 2,
   "id": "d81a53c6",
   "metadata": {},
   "outputs": [],
   "source": [
    "A={1,2,3,4,5}\n",
    "B={4,5,6,7,8}\n",
    "U={1,2,3,4,5,6,7,8}"
   ]
  },
  {
   "cell_type": "code",
   "execution_count": 3,
   "id": "19f9a487",
   "metadata": {},
   "outputs": [
    {
     "name": "stdout",
     "output_type": "stream",
     "text": [
      "{1, 2, 3, 4, 5, 6, 7, 8}\n",
      "{1, 2, 3, 4, 5, 6, 7, 8}\n"
     ]
    }
   ],
   "source": [
    "print(A|B)\n",
    "print(A.union(B))"
   ]
  },
  {
   "cell_type": "code",
   "execution_count": 4,
   "id": "e06b3a6e",
   "metadata": {},
   "outputs": [
    {
     "name": "stdout",
     "output_type": "stream",
     "text": [
      "{4, 5}\n",
      "{4, 5}\n"
     ]
    }
   ],
   "source": [
    "print(A & B)\n",
    "print(A.intersection(B))"
   ]
  },
  {
   "cell_type": "code",
   "execution_count": 6,
   "id": "cb4fdb7a",
   "metadata": {},
   "outputs": [
    {
     "name": "stdout",
     "output_type": "stream",
     "text": [
      "{1, 2, 3}\n",
      "{1, 2, 3}\n",
      "{8, 6, 7}\n"
     ]
    }
   ],
   "source": [
    "print(A - B)\n",
    "print(A.difference(B))\n",
    "print(U - A) #A'"
   ]
  },
  {
   "cell_type": "markdown",
   "id": "155b1815",
   "metadata": {},
   "source": [
    "### Formulas"
   ]
  },
  {
   "cell_type": "raw",
   "id": "a4e688d1",
   "metadata": {},
   "source": [
    "^ = intersection\n",
    "Neither, nor P(A' ^ B') = 1- P(A U B) \n",
    "Either, or P(A U B)  => disjoint or not?\n",
    "both,and,atleast P(A ^ B) => independent or not? "
   ]
  },
  {
   "cell_type": "markdown",
   "id": "393b4602",
   "metadata": {},
   "source": [
    "## Lecture 2"
   ]
  },
  {
   "cell_type": "markdown",
   "id": "6b59c3da",
   "metadata": {},
   "source": [
    "### Exclusive/Non-Mutually Exclusive Events"
   ]
  },
  {
   "cell_type": "markdown",
   "id": "c6462cbd",
   "metadata": {},
   "source": [
    "### Additional rule of probability"
   ]
  },
  {
   "cell_type": "markdown",
   "id": "b3d79d09",
   "metadata": {},
   "source": [
    "### Mutually exclusive: "
   ]
  },
  {
   "cell_type": "raw",
   "id": "3a10a75c",
   "metadata": {},
   "source": [
    "Cannot occur at the same time\n",
    "- a person can either stand or sit athe same time\n",
    "\n",
    "P(A U B) = P(A) + P(B)"
   ]
  },
  {
   "cell_type": "markdown",
   "id": "38f04d2c",
   "metadata": {},
   "source": [
    "### Non-Mutually exclusive: "
   ]
  },
  {
   "cell_type": "raw",
   "id": "5d8de066",
   "metadata": {},
   "source": [
    "Can occur at same time\n",
    "- a person can run and have sweat at same time\n",
    "\n",
    "P(A U B) = P(A) + P(B) - P(A ^ B)"
   ]
  },
  {
   "cell_type": "markdown",
   "id": "ae619caa",
   "metadata": {},
   "source": [
    "## Lecture 3"
   ]
  },
  {
   "cell_type": "markdown",
   "id": "bbcf22fd",
   "metadata": {},
   "source": [
    "###  Independent/Dependent Events"
   ]
  },
  {
   "cell_type": "markdown",
   "id": "ebaeb96c",
   "metadata": {},
   "source": [
    "### Multiplication rule of probability"
   ]
  },
  {
   "cell_type": "raw",
   "id": "8cc7672d",
   "metadata": {},
   "source": [
    "Dependent Events\n",
    "P(A^B) = P(A).P(B)"
   ]
  },
  {
   "cell_type": "raw",
   "id": "4c1948bb",
   "metadata": {},
   "source": [
    "Independent Events\n",
    "P(A^B) = P(A).P(B|A)"
   ]
  },
  {
   "cell_type": "markdown",
   "id": "9ae4ad95",
   "metadata": {},
   "source": [
    "## Lecture 4"
   ]
  },
  {
   "cell_type": "markdown",
   "id": "58943e5b",
   "metadata": {},
   "source": [
    "### Laws of Probability"
   ]
  },
  {
   "cell_type": "raw",
   "id": "b1693b99",
   "metadata": {},
   "source": [
    "Conditional probability\n",
    "P(B|A)= P(A^B)/P(A)"
   ]
  },
  {
   "cell_type": "code",
   "execution_count": null,
   "id": "0225625a",
   "metadata": {},
   "outputs": [],
   "source": []
  }
 ],
 "metadata": {
  "kernelspec": {
   "display_name": "Python 3 (ipykernel)",
   "language": "python",
   "name": "python3"
  },
  "language_info": {
   "codemirror_mode": {
    "name": "ipython",
    "version": 3
   },
   "file_extension": ".py",
   "mimetype": "text/x-python",
   "name": "python",
   "nbconvert_exporter": "python",
   "pygments_lexer": "ipython3",
   "version": "3.9.7"
  }
 },
 "nbformat": 4,
 "nbformat_minor": 5
}
